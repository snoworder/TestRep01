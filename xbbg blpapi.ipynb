{
 "cells": [
  {
   "cell_type": "code",
   "execution_count": null,
   "id": "d621f170-8b26-472d-8f8b-7075d56d946e",
   "metadata": {},
   "outputs": [],
   "source": [
    "import sys"
   ]
  },
  {
   "cell_type": "code",
   "execution_count": null,
   "id": "38d5af37-8102-4fc0-934e-abc0efa147ac",
   "metadata": {},
   "outputs": [],
   "source": [
    "pip install --index-url=https://bcms.bloomberg.com/pip/simple blpapi"
   ]
  },
  {
   "cell_type": "code",
   "execution_count": null,
   "id": "bf7df038-3c4f-4b87-8fb7-85559fb43fa7",
   "metadata": {
    "tags": []
   },
   "outputs": [],
   "source": [
    "!{sys.executable} -m pip install xbbg"
   ]
  },
  {
   "cell_type": "code",
   "execution_count": null,
   "id": "d514b2ae-abc5-4792-86a1-0f9328fabb1e",
   "metadata": {},
   "outputs": [],
   "source": [
    "import blpapi"
   ]
  },
  {
   "cell_type": "code",
   "execution_count": null,
   "id": "d0c30363-bb6c-40c9-85bc-39636dc8d0e1",
   "metadata": {},
   "outputs": [],
   "source": [
    "from xbbg import blp"
   ]
  },
  {
   "cell_type": "code",
   "execution_count": null,
   "id": "f967b970-f50e-417f-8a6c-cdbc462f2e2a",
   "metadata": {
    "tags": []
   },
   "outputs": [],
   "source": [
    "blp.bdp(tickers='NVDA US Equity', flds=['Security_Name', 'PX_LAST', 'GICS_Sector_Name'])"
   ]
  },
  {
   "cell_type": "code",
   "execution_count": null,
   "id": "48a43232-d313-4c43-a857-190209f97058",
   "metadata": {
    "tags": []
   },
   "outputs": [],
   "source": []
  }
 ],
 "metadata": {
  "kernelspec": {
   "display_name": "Python 3 (ipykernel)",
   "language": "python",
   "name": "python3"
  },
  "language_info": {
   "codemirror_mode": {
    "name": "ipython",
    "version": 3
   },
   "file_extension": ".py",
   "mimetype": "text/x-python",
   "name": "python",
   "nbconvert_exporter": "python",
   "pygments_lexer": "ipython3",
   "version": "3.10.5"
  }
 },
 "nbformat": 4,
 "nbformat_minor": 5
}
