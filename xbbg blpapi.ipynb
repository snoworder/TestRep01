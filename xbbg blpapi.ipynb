{
 "cells": [
  {
   "cell_type": "code",
   "execution_count": 6,
   "id": "d621f170-8b26-472d-8f8b-7075d56d946e",
   "metadata": {},
   "outputs": [],
   "source": [
    "import sys"
   ]
  },
  {
   "cell_type": "code",
   "execution_count": 13,
   "id": "38d5af37-8102-4fc0-934e-abc0efa147ac",
   "metadata": {},
   "outputs": [
    {
     "name": "stdout",
     "output_type": "stream",
     "text": [
      "Looking in indexes: https://bcms.bloomberg.com/pip/simple\n",
      "Collecting blpapi\n",
      "  Downloading https://bcms.bloomberg.com/pip/simple/blpapi/blpapi-3.18.2-cp310-cp310-win_amd64.whl (4.6 MB)\n",
      "     ---------------------------------------- 4.6/4.6 MB 2.7 MB/s eta 0:00:00\n",
      "Installing collected packages: blpapi\n",
      "Successfully installed blpapi-3.18.2\n",
      "Note: you may need to restart the kernel to use updated packages.\n"
     ]
    }
   ],
   "source": [
    "pip install --index-url=https://bcms.bloomberg.com/pip/simple blpapi"
   ]
  },
  {
   "cell_type": "code",
   "execution_count": 7,
   "id": "bf7df038-3c4f-4b87-8fb7-85559fb43fa7",
   "metadata": {
    "collapsed": true,
    "jupyter": {
     "outputs_hidden": true
    },
    "tags": []
   },
   "outputs": [
    {
     "name": "stdout",
     "output_type": "stream",
     "text": [
      "Collecting xbbg\n",
      "  Downloading xbbg-0.7.7-py3-none-any.whl (52 kB)\n",
      "     ---------------------------------------- 52.9/52.9 KB 2.8 MB/s eta 0:00:00\n",
      "Collecting numpy>=1.15.0\n",
      "  Downloading numpy-1.23.1-cp310-cp310-win_amd64.whl (14.6 MB)\n",
      "     --------------------------------------- 14.6/14.6 MB 65.6 MB/s eta 0:00:00\n",
      "Collecting pytest\n",
      "  Downloading pytest-7.1.2-py3-none-any.whl (297 kB)\n",
      "     ------------------------------------- 297.0/297.0 KB 17.9 MB/s eta 0:00:00\n",
      "Collecting pyarrow>=1.0.1\n",
      "  Downloading pyarrow-8.0.0-cp310-cp310-win_amd64.whl (17.9 MB)\n",
      "     --------------------------------------- 17.9/17.9 MB 59.5 MB/s eta 0:00:00\n",
      "Requirement already satisfied: pytz>=2020.4 in c:\\users\\blpgr\\appdata\\local\\programs\\python\\python310\\lib\\site-packages (from xbbg) (2022.1)\n",
      "Collecting pandas>=1.0.0\n",
      "  Downloading pandas-1.4.3-cp310-cp310-win_amd64.whl (10.5 MB)\n",
      "     --------------------------------------- 10.5/10.5 MB 72.6 MB/s eta 0:00:00\n",
      "Collecting ruamel.yaml>=0.15.0\n",
      "  Downloading ruamel.yaml-0.17.21-py3-none-any.whl (109 kB)\n",
      "     -------------------------------------- 109.5/109.5 KB 6.2 MB/s eta 0:00:00\n",
      "Requirement already satisfied: python-dateutil>=2.8.1 in c:\\users\\blpgr\\appdata\\local\\programs\\python\\python310\\lib\\site-packages (from pandas>=1.0.0->xbbg) (2.8.2)\n",
      "Collecting ruamel.yaml.clib>=0.2.6\n",
      "  Downloading ruamel.yaml.clib-0.2.6-cp310-cp310-win_amd64.whl (118 kB)\n",
      "     -------------------------------------- 118.2/118.2 KB 6.7 MB/s eta 0:00:00\n",
      "Requirement already satisfied: packaging in c:\\users\\blpgr\\appdata\\local\\programs\\python\\python310\\lib\\site-packages (from pytest->xbbg) (21.3)\n",
      "Requirement already satisfied: attrs>=19.2.0 in c:\\users\\blpgr\\appdata\\local\\programs\\python\\python310\\lib\\site-packages (from pytest->xbbg) (21.4.0)\n",
      "Collecting iniconfig\n",
      "  Downloading iniconfig-1.1.1-py2.py3-none-any.whl (5.0 kB)\n",
      "Collecting pluggy<2.0,>=0.12\n",
      "  Downloading pluggy-1.0.0-py2.py3-none-any.whl (13 kB)\n",
      "Collecting atomicwrites>=1.0\n",
      "  Downloading atomicwrites-1.4.1.tar.gz (14 kB)\n",
      "  Preparing metadata (setup.py): started\n",
      "  Preparing metadata (setup.py): finished with status 'done'\n",
      "Collecting tomli>=1.0.0\n",
      "  Downloading tomli-2.0.1-py3-none-any.whl (12 kB)\n",
      "Requirement already satisfied: colorama in c:\\users\\blpgr\\appdata\\local\\programs\\python\\python310\\lib\\site-packages (from pytest->xbbg) (0.4.5)\n",
      "Collecting py>=1.8.2\n",
      "  Downloading py-1.11.0-py2.py3-none-any.whl (98 kB)\n",
      "     ---------------------------------------- 98.7/98.7 KB 5.9 MB/s eta 0:00:00\n",
      "Requirement already satisfied: six>=1.5 in c:\\users\\blpgr\\appdata\\local\\programs\\python\\python310\\lib\\site-packages (from python-dateutil>=2.8.1->pandas>=1.0.0->xbbg) (1.16.0)\n",
      "Requirement already satisfied: pyparsing!=3.0.5,>=2.0.2 in c:\\users\\blpgr\\appdata\\local\\programs\\python\\python310\\lib\\site-packages (from packaging->pytest->xbbg) (3.0.9)\n",
      "Using legacy 'setup.py install' for atomicwrites, since package 'wheel' is not installed.\n",
      "Installing collected packages: iniconfig, tomli, ruamel.yaml.clib, py, pluggy, numpy, atomicwrites, ruamel.yaml, pytest, pyarrow, pandas, xbbg\n",
      "  Running setup.py install for atomicwrites: started\n",
      "  Running setup.py install for atomicwrites: finished with status 'done'\n",
      "Successfully installed atomicwrites-1.4.1 iniconfig-1.1.1 numpy-1.23.1 pandas-1.4.3 pluggy-1.0.0 py-1.11.0 pyarrow-8.0.0 pytest-7.1.2 ruamel.yaml-0.17.21 ruamel.yaml.clib-0.2.6 tomli-2.0.1 xbbg-0.7.7\n"
     ]
    },
    {
     "name": "stderr",
     "output_type": "stream",
     "text": [
      "WARNING: You are using pip version 22.0.4; however, version 22.1.2 is available.\n",
      "You should consider upgrading via the 'C:\\Users\\blpgr\\AppData\\Local\\Programs\\Python\\Python310\\python.exe -m pip install --upgrade pip' command.\n"
     ]
    }
   ],
   "source": [
    "!{sys.executable} -m pip install xbbg"
   ]
  },
  {
   "cell_type": "code",
   "execution_count": 14,
   "id": "d514b2ae-abc5-4792-86a1-0f9328fabb1e",
   "metadata": {},
   "outputs": [],
   "source": [
    "import blpapi"
   ]
  },
  {
   "cell_type": "code",
   "execution_count": 17,
   "id": "d0c30363-bb6c-40c9-85bc-39636dc8d0e1",
   "metadata": {},
   "outputs": [],
   "source": [
    "from xbbg import blp"
   ]
  },
  {
   "cell_type": "code",
   "execution_count": 18,
   "id": "f967b970-f50e-417f-8a6c-cdbc462f2e2a",
   "metadata": {},
   "outputs": [
    {
     "data": {
      "text/html": [
       "<div>\n",
       "<style scoped>\n",
       "    .dataframe tbody tr th:only-of-type {\n",
       "        vertical-align: middle;\n",
       "    }\n",
       "\n",
       "    .dataframe tbody tr th {\n",
       "        vertical-align: top;\n",
       "    }\n",
       "\n",
       "    .dataframe thead th {\n",
       "        text-align: right;\n",
       "    }\n",
       "</style>\n",
       "<table border=\"1\" class=\"dataframe\">\n",
       "  <thead>\n",
       "    <tr style=\"text-align: right;\">\n",
       "      <th></th>\n",
       "      <th>security_name</th>\n",
       "      <th>px_last</th>\n",
       "      <th>gics_sector_name</th>\n",
       "    </tr>\n",
       "  </thead>\n",
       "  <tbody>\n",
       "    <tr>\n",
       "      <th>NVDA US Equity</th>\n",
       "      <td>NVIDIA Corp</td>\n",
       "      <td>169.92</td>\n",
       "      <td>Information Technology</td>\n",
       "    </tr>\n",
       "  </tbody>\n",
       "</table>\n",
       "</div>"
      ],
      "text/plain": [
       "               security_name px_last        gics_sector_name\n",
       "NVDA US Equity   NVIDIA Corp  169.92  Information Technology"
      ]
     },
     "execution_count": 18,
     "metadata": {},
     "output_type": "execute_result"
    }
   ],
   "source": [
    "blp.bdp(tickers='NVDA US Equity', flds=['Security_Name', 'PX_LAST', 'GICS_Sector_Name'])"
   ]
  },
  {
   "cell_type": "code",
   "execution_count": null,
   "id": "48a43232-d313-4c43-a857-190209f97058",
   "metadata": {},
   "outputs": [],
   "source": []
  }
 ],
 "metadata": {
  "kernelspec": {
   "display_name": "Python 3 (ipykernel)",
   "language": "python",
   "name": "python3"
  },
  "language_info": {
   "codemirror_mode": {
    "name": "ipython",
    "version": 3
   },
   "file_extension": ".py",
   "mimetype": "text/x-python",
   "name": "python",
   "nbconvert_exporter": "python",
   "pygments_lexer": "ipython3",
   "version": "3.10.5"
  }
 },
 "nbformat": 4,
 "nbformat_minor": 5
}
