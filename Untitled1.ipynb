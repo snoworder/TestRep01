{
 "cells": [
  {
   "cell_type": "code",
   "execution_count": 1,
   "id": "c9514fea-57f3-4825-bfa0-b1c326256797",
   "metadata": {},
   "outputs": [],
   "source": [
    "from xbbg import blp"
   ]
  },
  {
   "cell_type": "code",
   "execution_count": 4,
   "id": "07020d89-e68f-4bde-9257-c12b57ebdc12",
   "metadata": {},
   "outputs": [
    {
     "data": {
      "text/html": [
       "<div>\n",
       "<style scoped>\n",
       "    .dataframe tbody tr th:only-of-type {\n",
       "        vertical-align: middle;\n",
       "    }\n",
       "\n",
       "    .dataframe tbody tr th {\n",
       "        vertical-align: top;\n",
       "    }\n",
       "\n",
       "    .dataframe thead th {\n",
       "        text-align: right;\n",
       "    }\n",
       "</style>\n",
       "<table border=\"1\" class=\"dataframe\">\n",
       "  <thead>\n",
       "    <tr style=\"text-align: right;\">\n",
       "      <th></th>\n",
       "      <th>security_name</th>\n",
       "      <th>px_last</th>\n",
       "      <th>gics_sector_name</th>\n",
       "    </tr>\n",
       "  </thead>\n",
       "  <tbody>\n",
       "    <tr>\n",
       "      <th>BAS GY Equity</th>\n",
       "      <td>BASF SE</td>\n",
       "      <td>52.57</td>\n",
       "      <td>Materials</td>\n",
       "    </tr>\n",
       "  </tbody>\n",
       "</table>\n",
       "</div>"
      ],
      "text/plain": [
       "              security_name px_last gics_sector_name\n",
       "BAS GY Equity       BASF SE   52.57        Materials"
      ]
     },
     "execution_count": 4,
     "metadata": {},
     "output_type": "execute_result"
    }
   ],
   "source": [
    "blp.bdp(tickers='BAS GY Equity', flds=['Security_Name', 'PX_LAST', 'GICS_Sector_Name'])"
   ]
  },
  {
   "cell_type": "code",
   "execution_count": 10,
   "id": "f215fe1e-3087-4ef3-bf59-a542f9ce4325",
   "metadata": {
    "collapsed": true,
    "jupyter": {
     "outputs_hidden": true
    },
    "tags": []
   },
   "outputs": [
    {
     "ename": "AttributeError",
     "evalue": "'function' object has no attribute 'members'",
     "output_type": "error",
     "traceback": [
      "\u001b[1;31m---------------------------------------------------------------------------\u001b[0m",
      "\u001b[1;31mAttributeError\u001b[0m                            Traceback (most recent call last)",
      "Input \u001b[1;32mIn [10]\u001b[0m, in \u001b[0;36m<cell line: 1>\u001b[1;34m()\u001b[0m\n\u001b[1;32m----> 1\u001b[0m M7 \u001b[38;5;241m=\u001b[39m \u001b[43mblp\u001b[49m\u001b[38;5;241;43m.\u001b[39;49m\u001b[43mbdp\u001b[49m\u001b[38;5;241;43m.\u001b[39;49m\u001b[43mmembers\u001b[49m(\u001b[38;5;124m'\u001b[39m\u001b[38;5;124mM7EMLC Index\u001b[39m\u001b[38;5;124m'\u001b[39m)\n\u001b[0;32m      3\u001b[0m sector \u001b[38;5;241m=\u001b[39m bq\u001b[38;5;241m.\u001b[39mdata\u001b[38;5;241m.\u001b[39mgics_sector_name()\n\u001b[0;32m      4\u001b[0m cap \u001b[38;5;241m=\u001b[39m bq\u001b[38;5;241m.\u001b[39mdata\u001b[38;5;241m.\u001b[39mcur_mkt_cap(per\u001b[38;5;241m=\u001b[39m\u001b[38;5;124m'\u001b[39m\u001b[38;5;124mM\u001b[39m\u001b[38;5;124m'\u001b[39m, fill\u001b[38;5;241m=\u001b[39m\u001b[38;5;124m'\u001b[39m\u001b[38;5;124mprev\u001b[39m\u001b[38;5;124m'\u001b[39m, currency\u001b[38;5;241m=\u001b[39m\u001b[38;5;124m'\u001b[39m\u001b[38;5;124mEUR\u001b[39m\u001b[38;5;124m'\u001b[39m)\n",
      "\u001b[1;31mAttributeError\u001b[0m: 'function' object has no attribute 'members'"
     ]
    }
   ],
   "source": [
    "M7 = blp.bdp.members('M7EMLC Index')\n",
    "\n",
    "sector = bq.data.gics_sector_name()\n",
    "cap = bq.data.cur_mkt_cap(per='M', fill='prev', currency='EUR')\n",
    "pe_ratio = bq.data.pe_ratio(fill='prev', fa_period_type='LTM' )\n",
    "\n",
    "# average by sector\n",
    "#sector_avg_pe_ratio = pe_ratio.group(sector).avg()\n",
    "\n",
    "# weighted average by sector\n",
    "sector_wavg_pe_ratio = pe_ratio.groupwavg(cap, sector)\n",
    "# or sector_wavg_pe_ratio = pe_ratio.groupwavg(cap, by=sector)\n",
    "\n",
    "#just to group and show by sector\n",
    "bsector_wavg_pe_ratio = sector_wavg_pe_ratio.group(sector).avg()\n",
    "\n",
    "#group_avg_pe_ratio = pe_ratio.groupzscore(grouper)\n",
    "\n",
    "\n",
    "req = bql.Request(M7, {'Avg PE_RATIO':bsector_wavg_pe_ratio})\n",
    "res = bq.execute(req)\n",
    "data = res[0].df()\n",
    "data"
   ]
  },
  {
   "cell_type": "code",
   "execution_count": null,
   "id": "d1c797fe-3c83-4c40-b62b-efe0d9acfc17",
   "metadata": {},
   "outputs": [],
   "source": []
  }
 ],
 "metadata": {
  "kernelspec": {
   "display_name": "Python 3 (ipykernel)",
   "language": "python",
   "name": "python3"
  },
  "language_info": {
   "codemirror_mode": {
    "name": "ipython",
    "version": 3
   },
   "file_extension": ".py",
   "mimetype": "text/x-python",
   "name": "python",
   "nbconvert_exporter": "python",
   "pygments_lexer": "ipython3",
   "version": "3.10.5"
  }
 },
 "nbformat": 4,
 "nbformat_minor": 5
}
